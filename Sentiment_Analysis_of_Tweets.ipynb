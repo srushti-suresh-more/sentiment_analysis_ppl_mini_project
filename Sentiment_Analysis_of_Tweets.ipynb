{
  "nbformat": 4,
  "nbformat_minor": 0,
  "metadata": {
    "colab": {
      "name": "Sentiment_Analysis_of_Tweets.ipynb",
      "provenance": [],
      "collapsed_sections": []
    },
    "kernelspec": {
      "name": "python3",
      "display_name": "Python 3"
    }
  },
  "cells": [
    {
      "cell_type": "markdown",
      "metadata": {
        "id": "gkxOhUDuMqiT"
      },
      "source": [
        "---\n",
        "\n",
        "\n",
        "\n",
        "# ***SENTIMENT ANALYSIS OF TWEETS***\n",
        "\n",
        "\n",
        "\n",
        "---\n",
        "\n",
        "**Sentimental analysis is the process of computationally determining the opinion or attitude of the writers as positive, negative or neutral.\n",
        "Sentiment analysis (also known as opinion mining or emotion AI) refers to the use of natural language processing, text analysis, computational linguistics, and biometrics to systematically identify, extract, quantify, and study affective states and subjective information. Sentiment analysis is widely applied to voice of the customer materials such as reviews and survey responses, online and social media, and healthcare materials for applications that range from marketing to customer service to clinical medicine.**\n",
        "\n"
      ]
    },
    {
      "cell_type": "markdown",
      "metadata": {
        "id": "6ASBNaCS_6dU"
      },
      "source": [
        "\n",
        "\n",
        "---\n",
        "\n",
        "\n",
        "***In this notebook, we will build a model for analysis the sentiments of tweets and classify them as positive, neutral or negative.***\n",
        "\n",
        "\n",
        "---\n",
        "\n"
      ]
    },
    {
      "cell_type": "markdown",
      "metadata": {
        "id": "Pb41hjNBMy1B"
      },
      "source": [
        "\n",
        "\n",
        "---\n",
        "\n",
        "# ***.1. LOADING DATA***\n",
        "\n",
        "---"
      ]
    },
    {
      "cell_type": "code",
      "metadata": {
        "id": "ZJqVhqXEMz2a"
      },
      "source": [
        "#importing numpy and pandas libraries\n",
        "import numpy as np\n",
        "import pandas as pd\n",
        "\n",
        "#This is for making some large tweets to be displayed\n",
        "pd.options.display.max_colwidth = 100\n",
        "\n",
        "#Load training data from train.txt\n",
        "train_data = pd.read_csv(\"train.txt\", encoding='ISO-8859-1')"
      ],
      "execution_count": 34,
      "outputs": []
    },
    {
      "cell_type": "markdown",
      "metadata": {
        "id": "x0xOA0CxMtJU"
      },
      "source": [
        "\n",
        "\n",
        "---\n",
        "\n",
        "\n",
        "# ***.2. DATA VISUALISATION (DATA ANALYSIS)***\n",
        "\n",
        "\n",
        "---\n"
      ]
    },
    {
      "cell_type": "markdown",
      "metadata": {
        "id": "IRxgUB-EP5i4"
      },
      "source": [
        ">Check the shape of the training data"
      ]
    },
    {
      "cell_type": "code",
      "metadata": {
        "id": "iHsIdgmcOBAw",
        "outputId": "6900fdac-3726-484b-c0a0-fb5f647880f9",
        "colab": {
          "base_uri": "https://localhost:8080/"
        }
      },
      "source": [
        "train_data.shape"
      ],
      "execution_count": 38,
      "outputs": [
        {
          "output_type": "execute_result",
          "data": {
            "text/plain": [
              "(21465, 3)"
            ]
          },
          "metadata": {
            "tags": []
          },
          "execution_count": 38
        }
      ]
    },
    {
      "cell_type": "markdown",
      "metadata": {
        "id": "EQi2fyu3P92J"
      },
      "source": [
        ">The are 3 columns in the dataset and there are total 21465 entries(rows). \n",
        "\n",
        ">Now, check the names of the columns"
      ]
    },
    {
      "cell_type": "code",
      "metadata": {
        "id": "SxS9HKFOQPXI",
        "outputId": "b460e08c-8d4f-439d-dbba-dad9f02c2a54",
        "colab": {
          "base_uri": "https://localhost:8080/"
        }
      },
      "source": [
        "train_data.columns"
      ],
      "execution_count": 39,
      "outputs": [
        {
          "output_type": "execute_result",
          "data": {
            "text/plain": [
              "Index(['tweet_id', 'sentiment', 'tweet_text'], dtype='object')"
            ]
          },
          "metadata": {
            "tags": []
          },
          "execution_count": 39
        }
      ]
    },
    {
      "cell_type": "markdown",
      "metadata": {
        "id": "ndXicbNuNEng"
      },
      "source": [
        "> Visualizing the first 5 rows of the train_data"
      ]
    },
    {
      "cell_type": "code",
      "metadata": {
        "id": "MCMg7hqVMjcT",
        "outputId": "d514c2b7-cf86-46b6-b076-1fb9e7fdcdc4",
        "colab": {
          "base_uri": "https://localhost:8080/",
          "height": 196
        }
      },
      "source": [
        "#visualizing the first 5 rows of the training data\n",
        "train_data.head()"
      ],
      "execution_count": 40,
      "outputs": [
        {
          "output_type": "execute_result",
          "data": {
            "text/html": [
              "<div>\n",
              "<style scoped>\n",
              "    .dataframe tbody tr th:only-of-type {\n",
              "        vertical-align: middle;\n",
              "    }\n",
              "\n",
              "    .dataframe tbody tr th {\n",
              "        vertical-align: top;\n",
              "    }\n",
              "\n",
              "    .dataframe thead th {\n",
              "        text-align: right;\n",
              "    }\n",
              "</style>\n",
              "<table border=\"1\" class=\"dataframe\">\n",
              "  <thead>\n",
              "    <tr style=\"text-align: right;\">\n",
              "      <th></th>\n",
              "      <th>tweet_id</th>\n",
              "      <th>sentiment</th>\n",
              "      <th>tweet_text</th>\n",
              "    </tr>\n",
              "  </thead>\n",
              "  <tbody>\n",
              "    <tr>\n",
              "      <th>0</th>\n",
              "      <td>264183816548130816</td>\n",
              "      <td>positive</td>\n",
              "      <td>Gas by my house hit $3.39!!!! I\\u2019m going to Chapel Hill on Sat. :)</td>\n",
              "    </tr>\n",
              "    <tr>\n",
              "      <th>1</th>\n",
              "      <td>263405084770172928</td>\n",
              "      <td>negative</td>\n",
              "      <td>Theo Walcott is still shit\\u002c watch Rafa and Johnny deal with him on Saturday.</td>\n",
              "    </tr>\n",
              "    <tr>\n",
              "      <th>2</th>\n",
              "      <td>262163168678248449</td>\n",
              "      <td>negative</td>\n",
              "      <td>its not that I\\u2019m a GSP fan\\u002c i just hate Nick Diaz. can\\u2019t wait for february.</td>\n",
              "    </tr>\n",
              "    <tr>\n",
              "      <th>3</th>\n",
              "      <td>264249301910310912</td>\n",
              "      <td>negative</td>\n",
              "      <td>Iranian general says Israel\\u2019s Iron Dome can\\u2019t deal with their missiles (keep talking l...</td>\n",
              "    </tr>\n",
              "    <tr>\n",
              "      <th>4</th>\n",
              "      <td>262682041215234048</td>\n",
              "      <td>neutral</td>\n",
              "      <td>Tehran\\u002c Mon Amour: Obama Tried to Establish Ties with the Mullahs http://t.co/TZZzrrKa via ...</td>\n",
              "    </tr>\n",
              "  </tbody>\n",
              "</table>\n",
              "</div>"
            ],
            "text/plain": [
              "             tweet_id  ...                                                                                           tweet_text\n",
              "0  264183816548130816  ...                               Gas by my house hit $3.39!!!! I\\u2019m going to Chapel Hill on Sat. :)\n",
              "1  263405084770172928  ...                    Theo Walcott is still shit\\u002c watch Rafa and Johnny deal with him on Saturday.\n",
              "2  262163168678248449  ...           its not that I\\u2019m a GSP fan\\u002c i just hate Nick Diaz. can\\u2019t wait for february.\n",
              "3  264249301910310912  ...  Iranian general says Israel\\u2019s Iron Dome can\\u2019t deal with their missiles (keep talking l...\n",
              "4  262682041215234048  ...  Tehran\\u002c Mon Amour: Obama Tried to Establish Ties with the Mullahs http://t.co/TZZzrrKa via ...\n",
              "\n",
              "[5 rows x 3 columns]"
            ]
          },
          "metadata": {
            "tags": []
          },
          "execution_count": 40
        }
      ]
    },
    {
      "cell_type": "markdown",
      "metadata": {
        "id": "za95fMCBNVwH"
      },
      "source": [
        ">Taking a look at random tweets to gain more insights"
      ]
    },
    {
      "cell_type": "code",
      "metadata": {
        "id": "nGA8iwbSNgpJ",
        "outputId": "4c440b49-a385-48fc-b98d-2fdb8d17922a",
        "colab": {
          "base_uri": "https://localhost:8080/"
        }
      },
      "source": [
        "#We will now take a look at random tweets to gain more insights\n",
        "rand_indexs = np.random.randint(1,len(train_data),15).tolist()\n",
        "train_data[\"tweet_text\"][rand_indexs]"
      ],
      "execution_count": 41,
      "outputs": [
        {
          "output_type": "execute_result",
          "data": {
            "text/plain": [
              "8312         Ok Dongwoo\\u2019s fansite is not accepting new members right now...need to register on the 11th\n",
              "12884    August 13 2015/1975: A celebration of 40 years since the Grateful Dead's legendary \"One From The...\n",
              "17684    @OnTheManney @hbryant42 I don't think Nike was ever an option. Part of it may be the small, inex...\n",
              "2559     Enjoying my 1st time on Caltrain - bikes on the 1st floor\\u002c passengers on the 2nd floor. htt...\n",
              "603      recap. I saw Bad 25 on Tuesday. The Spike Lee Documentary on Michael Jackson. It was beyond amaz...\n",
              "16382    @Loca_Lesley Well have to have a defensive stand at the beginning of the 3rd. But lord knows Ike...\n",
              "14968    Is this the ultimate guide to detailing your car? It may very well be, courtesy of Lexus: http:/...\n",
              "4763     @JbaGs17 good looks homie\\u002c Im goin to pretty lights tomorrow night so lets burn it down ASA...\n",
              "9450     @Novomix30 good field for Paris-Nice. First sportive of season for me tomorrow so good weekend o...\n",
              "16165    Justin may grow up but he will always be the same ALWAY the Kidrauhl tht will be caring for fans...\n",
              "20361                                              @DanGreenspan who do you have this Saturday UDUB or DUCKS\n",
              "19801                                                                     Going rib Elton all day tomorrow.!\n",
              "12988    Hi @FANEXPOCANADA - I noticed in the Guide app that there's no mention of the Hannibal photo op ...\n",
              "7246           Where have all the Yankees fans gone today? You were all so talkative before yesterdays game.\n",
              "9616     Yes. I'm ready for HS, college & pro. Bring it! @blueraider93: Make Monday better! We can now co...\n",
              "Name: tweet_text, dtype: object"
            ]
          },
          "metadata": {
            "tags": []
          },
          "execution_count": 41
        }
      ]
    },
    {
      "cell_type": "markdown",
      "metadata": {
        "id": "tOjq_HBEQadm"
      },
      "source": [
        ">Plot a bar plot of the 3 sentiments to know if the data is balanced or skewed"
      ]
    },
    {
      "cell_type": "code",
      "metadata": {
        "id": "sKZQVFQTNmuP",
        "outputId": "dcc6a4b7-17c2-44fd-89b0-13f361940494",
        "colab": {
          "base_uri": "https://localhost:8080/",
          "height": 297
        }
      },
      "source": [
        "#import necessary modules\n",
        "import matplotlib.pyplot as plt\n",
        "%matplotlib inline\n",
        "from collections import Counter\n",
        "\n",
        "#plotting the bar plot\n",
        "sentiment_cnt = Counter(train_data.sentiment)\n",
        "plt.figure(figsize=(7,4))\n",
        "plt.bar(sentiment_cnt.keys(),\n",
        "        sentiment_cnt.values(),\n",
        "        color=('g','r','b'))\n",
        "plt.title(\"Dataset labels distribuition\")"
      ],
      "execution_count": 42,
      "outputs": [
        {
          "output_type": "execute_result",
          "data": {
            "text/plain": [
              "Text(0.5, 1.0, 'Dataset labels distribuition')"
            ]
          },
          "metadata": {
            "tags": []
          },
          "execution_count": 42
        },
        {
          "output_type": "display_data",
          "data": {
            "image/png": "[encoded data removed]",
            "text/plain": [
              "<Figure size 504x288 with 1 Axes>"
            ]
          },
          "metadata": {
            "tags": [],
            "needs_background": "light"
          }
        }
      ]
    },
    {
      "cell_type": "code",
      "metadata": {
        "id": "obKmR23LQmjc",
        "outputId": "94b5e67e-f012-46e5-f984-3ca65ee531e2",
        "colab": {
          "base_uri": "https://localhost:8080/",
          "height": 362
        }
      },
      "source": [
        "#ploting the percentage of each type of tweet in a bar plot\n",
        "df = train_data['sentiment'].value_counts(normalize = True) * 100     \n",
        "print(df)\n",
        "\n",
        "plt.figure(figsize=(7,4))\n",
        "plt.bar(x = df.index, height = df.values, label = df.index, color= ['green','blue','red'])\n",
        "plt.xlabel(\"Sentiments\")\n",
        "plt.ylabel(\"Percentage\")\n",
        "plt.title(\"Percentage of each sentiment percent in the data\")\n",
        "plt.show()"
      ],
      "execution_count": 43,
      "outputs": [
        {
          "output_type": "stream",
          "text": [
            "positive    42.226881\n",
            "neutral     41.993944\n",
            "negative    15.779175\n",
            "Name: sentiment, dtype: float64\n"
          ],
          "name": "stdout"
        },
        {
          "output_type": "display_data",
          "data": {
            "image/png": "[encoded data removed]",
            "text/plain": [
              "<Figure size 504x288 with 1 Axes>"
            ]
          },
          "metadata": {
            "tags": [],
            "needs_background": "light"
          }
        }
      ]
    },
    {
      "cell_type": "markdown",
      "metadata": {
        "id": "30MblltgQwDt"
      },
      "source": [
        ">From the above plots is the evident that the data is highly skewed (41.993944% of neutral tweets, 42.226881% of positive tweets, 15,779175% of negative tweets).\n",
        "The count of neutral and positive tweets is approximately equal, but the count of negative tweets is less.\n",
        "The data is moderately skewed and might not affect the accuracy."
      ]
    },
    {
      "cell_type": "markdown",
      "metadata": {
        "id": "1nIm1sq-VKJE"
      },
      "source": [
        ">Check the total number of positive, negative and neutral tweets"
      ]
    },
    {
      "cell_type": "code",
      "metadata": {
        "id": "PKoXiadaUWeR",
        "outputId": "1bc254fd-cc78-461e-9c6b-7837a264c759",
        "colab": {
          "base_uri": "https://localhost:8080/"
        }
      },
      "source": [
        "print(type(train_data))\n",
        "train_data.sentiment.value_counts()"
      ],
      "execution_count": 44,
      "outputs": [
        {
          "output_type": "stream",
          "text": [
            "<class 'pandas.core.frame.DataFrame'>\n"
          ],
          "name": "stdout"
        },
        {
          "output_type": "execute_result",
          "data": {
            "text/plain": [
              "positive    9064\n",
              "neutral     9014\n",
              "negative    3387\n",
              "Name: sentiment, dtype: int64"
            ]
          },
          "metadata": {
            "tags": []
          },
          "execution_count": 44
        }
      ]
    },
    {
      "cell_type": "markdown",
      "metadata": {
        "id": "N9qVbAxmRBPq"
      },
      "source": [
        "> Checking if there's any null values in the data"
      ]
    },
    {
      "cell_type": "code",
      "metadata": {
        "id": "BXtZo__NQuln",
        "outputId": "069dc5dd-e1e9-4a0d-a407-c6a4b0e570d6",
        "colab": {
          "base_uri": "https://localhost:8080/"
        }
      },
      "source": [
        "train_data.isnull().sum()"
      ],
      "execution_count": 45,
      "outputs": [
        {
          "output_type": "execute_result",
          "data": {
            "text/plain": [
              "tweet_id      0\n",
              "sentiment     0\n",
              "tweet_text    0\n",
              "dtype: int64"
            ]
          },
          "metadata": {
            "tags": []
          },
          "execution_count": 45
        }
      ]
    },
    {
      "cell_type": "markdown",
      "metadata": {
        "id": "DlBu_7JMRG5I"
      },
      "source": [
        ">>There are no null cells in the data"
      ]
    },
    {
      "cell_type": "markdown",
      "metadata": {
        "id": "Uy2iGQuGWLxm"
      },
      "source": [
        "\n",
        "\n",
        "---\n",
        "\n",
        "\n",
        "# ***.3. DATA CLEANING FUNCTIONS***\n",
        "\n",
        "\n",
        "---\n",
        "\n"
      ]
    },
    {
      "cell_type": "markdown",
      "metadata": {
        "id": "PsYFbx7DRScu"
      },
      "source": [
        ">Find the emoticons used and classify them as happy and sad emoticons"
      ]
    },
    {
      "cell_type": "code",
      "metadata": {
        "id": "tQQA8bknRGFn",
        "outputId": "ec56928b-890f-4a64-c929-d86d0f3b63f5",
        "colab": {
          "base_uri": "https://localhost:8080/"
        }
      },
      "source": [
        "#find what emoticons are used in our dataset\n",
        "import re\n",
        "tweets_text = train_data.tweet_text.str.cat()\n",
        "emos = set(re.findall(r\" ([xX:;][-']?.) \",tweets_text))\n",
        "emos_count = []\n",
        "for emo in emos:\n",
        "    emos_count.append((tweets_text.count(emo), emo))\n",
        "emos_count = sorted(emos_count,reverse=True)\n",
        "print(\"The emoticons found in the data are:\")\n",
        "print(emos_count)\n",
        "print()\n",
        "\n",
        "\n",
        "#classify the emoticons as 'happy emoticons' and 'sad emoticons'\n",
        "emos_happy = set([':-)', ':)', ';)', ':o)', ':]', ':3', ':c)', ':>', '=]', '8)', '=)', ':}', ':D',\n",
        "    ':^)', ':-D', ':D', '8-D', '8D', 'x-D', 'xD', 'X-D', 'XD', '=-D', '=D',\n",
        "    '=-3', '=3', ':-))', \":'-)\", \":')\", ':*', ':^*', '>:P', ':-P', ':P', 'X-P',\n",
        "    'x-p', 'xp', 'XP', ':-p', ':p', '=p', ':-b', ':b', '>:)', '>;)', '>:-)', '<3'])\n",
        "\n",
        "emos_sad = set([':L', ':-/', '>:/', ':S', '>:[', ':@', ':-(', ':[', ':-||', '=L', ':<',\n",
        "    ':-[', ':-<', '=\\\\', '=/', '>:(', ':(', '>.<', \":'-(\", \":'(\", ':\\\\', ':-c',\n",
        "    ':c', ':{', '>:\\\\', ';('])  \n",
        "\n",
        "\n",
        "#function to replace emoticons with sentiment related\n",
        "def emos_replace(text):\n",
        "  text = text.split()\n",
        "  for i in range(len(text)):\n",
        "    if text[i] in emos_happy:\n",
        "      text[i] = 'happy'\n",
        "    elif text[i] in emos_sad:\n",
        "      text[i] = 'sad'\n",
        "  text = ' '.join(text)\n",
        "  return text"
      ],
      "execution_count": 46,
      "outputs": [
        {
          "output_type": "stream",
          "text": [
            "The emoticons found in the data are:\n",
            "[(6151, ':/'), (3722, ': '), (517, ':)'), (194, ':3'), (190, 'X '), (136, ':D'), (123, ':('), (98, 'xx'), (86, ';)'), (86, ':-'), (70, 'xo'), (65, ':-)'), (48, 'XI'), (42, 'xD'), (39, 'XO'), (32, 'xI'), (30, 'XC'), (29, 'XD'), (29, ':P'), (25, 'x3'), (24, 'xv'), (23, 'XS'), (23, 'XF'), (23, '::'), (20, ':\\\\'), (19, 'Xo'), (17, 'XP'), (16, ':O'), (15, 'x6'), (14, 'Xi'), (13, 'X1'), (12, ':p'), (10, ';-)'), (9, 'X.'), (9, ':*'), (8, ';D'), (7, 'x)'), (6, 'X,'), (6, ':o'), (6, \":')\"), (5, ';P'), (5, ':S'), (5, \":'(\"), (4, 'X:'), (4, ':L'), (4, ':-/'), (4, ':-('), (3, ';>'), (2, ';O'), (2, ':c'), (2, ':$'), (1, \"X's\"), (1, ';o'), (1, ';/'), (1, ';*'), (1, ':-P'), (1, ':-O')]\n",
            "\n"
          ],
          "name": "stdout"
        }
      ]
    },
    {
      "cell_type": "markdown",
      "metadata": {
        "id": "0lgGWy9dChQu"
      },
      "source": [
        "> Function to remove single letter words from the tweets"
      ]
    },
    {
      "cell_type": "code",
      "metadata": {
        "id": "igbLVW7EWooG"
      },
      "source": [
        "def del_singles(text):\n",
        "  text = str(text)\n",
        "  text = text.split()\n",
        "  text_new=[]\n",
        "  for word in text:\n",
        "    if(len(word)>1):\n",
        "      text_new.append(word)\n",
        "  text_new = \" \".join(text_new)\n",
        "  return text_new"
      ],
      "execution_count": 47,
      "outputs": []
    },
    {
      "cell_type": "markdown",
      "metadata": {
        "id": "EBjdFQV7CqMe"
      },
      "source": [
        ">Importing neccessay nltk modules"
      ]
    },
    {
      "cell_type": "code",
      "metadata": {
        "id": "lAJ5FIjBcugU",
        "outputId": "18f22e38-2597-4f22-d490-0ff9dc947042",
        "colab": {
          "base_uri": "https://localhost:8080/"
        }
      },
      "source": [
        "import nltk\n",
        "from nltk.corpus import stopwords\n",
        "nltk.download(\"stopwords\")\n",
        "from nltk.stem.snowball import SnowballStemmer\n",
        "from nltk.stem import WordNetLemmatizer\n",
        "nltk.download('wordnet')"
      ],
      "execution_count": 48,
      "outputs": [
        {
          "output_type": "stream",
          "text": [
            "[nltk_data] Downloading package stopwords to /root/nltk_data...\n",
            "[nltk_data]   Package stopwords is already up-to-date!\n",
            "[nltk_data] Downloading package wordnet to /root/nltk_data...\n",
            "[nltk_data]   Package wordnet is already up-to-date!\n"
          ],
          "name": "stdout"
        },
        {
          "output_type": "execute_result",
          "data": {
            "text/plain": [
              "True"
            ]
          },
          "metadata": {
            "tags": []
          },
          "execution_count": 48
        }
      ]
    },
    {
      "cell_type": "markdown",
      "metadata": {
        "id": "g4ppJPbxC0nm"
      },
      "source": [
        ">Finding the frequency of words in the dataset"
      ]
    },
    {
      "cell_type": "code",
      "metadata": {
        "id": "atwopyQzddJ6",
        "outputId": "71250226-d764-4651-af33-b7247c5d205f",
        "colab": {
          "base_uri": "https://localhost:8080/"
        }
      },
      "source": [
        "import nltk\n",
        "from nltk.tokenize import word_tokenize\n",
        "nltk.download('punkt')\n",
        "def most_used_words(text):\n",
        "    tokens = word_tokenize(text)\n",
        "    frequency_dist = nltk.FreqDist(tokens)\n",
        "    return sorted(frequency_dist,key=frequency_dist.__getitem__, reverse=True)"
      ],
      "execution_count": 50,
      "outputs": [
        {
          "output_type": "stream",
          "text": [
            "[nltk_data] Downloading package punkt to /root/nltk_data...\n",
            "[nltk_data]   Package punkt is already up-to-date!\n"
          ],
          "name": "stdout"
        }
      ]
    },
    {
      "cell_type": "markdown",
      "metadata": {
        "id": "6uC8pgHSC7o1"
      },
      "source": [
        ">Lemmatization function"
      ]
    },
    {
      "cell_type": "code",
      "metadata": {
        "id": "jsxPXDCob8X0"
      },
      "source": [
        "def lemmatize_tokenize(text):\n",
        "    text = str(text)\n",
        "    lemmatizer = WordNetLemmatizer()\n",
        "    t = [lemmatizer.lemmatize(token) for token in word_tokenize(text)]\n",
        "    text = ' '.join(t)\n",
        "    return text"
      ],
      "execution_count": 51,
      "outputs": []
    },
    {
      "cell_type": "markdown",
      "metadata": {
        "id": "IELa8taBC_PR"
      },
      "source": [
        ">Stemming function"
      ]
    },
    {
      "cell_type": "code",
      "metadata": {
        "id": "D-go8Ntdb-R7"
      },
      "source": [
        "def stem_tokenize(text):\n",
        "    text = str(text)\n",
        "    stemmer = SnowballStemmer(\"english\")\n",
        "    stemmer = WordNetLemmatizer()\n",
        "    t = [stemmer.lemmatize(token) for token in word_tokenize(text)]\n",
        "    text = ' '.join(t)\n",
        "    return text"
      ],
      "execution_count": 52,
      "outputs": []
    },
    {
      "cell_type": "markdown",
      "metadata": {
        "id": "_dOoUKHtDC7n"
      },
      "source": [
        ">Removing stopwords function"
      ]
    },
    {
      "cell_type": "code",
      "metadata": {
        "id": "boCAEHOrcQeG"
      },
      "source": [
        "def remove_stopwords(text):\n",
        "  mw = text.split()\n",
        "  most_words = []\n",
        "  for w in mw:\n",
        "    if w in stopwords.words(\"english\"):\n",
        "      continue\n",
        "    else:\n",
        "      most_words.append(w.lower())\n",
        "  text = ' '.join(most_words)\n",
        "  return text"
      ],
      "execution_count": 53,
      "outputs": []
    },
    {
      "cell_type": "markdown",
      "metadata": {
        "id": "YMn2BtcgDO-j"
      },
      "source": [
        ">Cleaning the tweets using the previously defined functions and regular expression to remove the words or letters or punctuations which might not contribute in deciding the sentiments.\n",
        "\n",
        "The data_cleaning function does the following task:\n",
        "*   removes non-ascii characters\n",
        "*   replaces emoticons with the feeling they convey\n",
        "*   removes retweets 'RT'\n",
        "*   removes user mention '@'\n",
        "*   removes numbers(digits)\n",
        "*   removes the hastag '#'\n",
        "*   removes punctuations\n",
        "*   removes URLs/links\n",
        "*   removes single letter words\n",
        "*   removes stopwords\n",
        "*   lemmatization\n",
        "*   stemming\n",
        "*   converts the text into lower case\n",
        "\n",
        "\n",
        "\n",
        "\n",
        "\n"
      ]
    },
    {
      "cell_type": "code",
      "metadata": {
        "id": "FAgDr0d8XmgT"
      },
      "source": [
        "def data_cleaning(text):\n",
        "\n",
        "  #remove NON-ASCII characters\n",
        "  text = re.sub('\\\\\\\\u[0-9A-Fa-f]{4}','', text)\n",
        "\n",
        "  #mark emoticons as happy or sad\n",
        "  text = emos_replace(text)\n",
        "\n",
        "  # remove retweet 'RT' \n",
        "  text = re.sub('RT[\\s]+', '', text)\n",
        "\n",
        "  #remove the user mentions\n",
        "  text = re.sub('@[A-Za-z0–9]+', '', text) \n",
        "\n",
        "  #remove numbers\n",
        "  text = re.sub(\"[0-9]\", \"\", text) \n",
        "\n",
        "  #Keeping only the word after the #\n",
        "  text = re.sub('#', '', text)\n",
        "\n",
        "  # remove usernames\n",
        "  text = re.sub('@[^\\s]+', '', text)\n",
        "  text= re.sub(r\"[-\\.\\n]\", \"\",text)\n",
        "\n",
        "  # remove links (URLs/ links)\n",
        "  text = re.sub('((www\\.[^\\s]+)|(https?://[^\\s]+))', '', text)\n",
        "\n",
        "  # remove punctuations\n",
        "  text = re.sub('[!\"$%&\\'()*+,-./:@;<=>?[\\\\]^_`{|}~]', '', text)\n",
        "\n",
        "  # Removing HTML garbage\n",
        "  text = re.sub(r\"&\\w+;\", \"\",text)\n",
        "\n",
        "  # replace repeated letters with only two occurences\n",
        "  # heeeelllloooo => heelloo\n",
        "  text = re.sub(r\"(.)\\1+\", r\"\\1\\1\",text)\n",
        "\n",
        "  #remove single letters \n",
        "  text = del_singles(text)\n",
        "\n",
        "  #convert the text to lower case text\n",
        "  text = text.lower()\n",
        "\n",
        "  #since removal of stopwords and lemmatization reduces the frequency these are now commented\n",
        "  #text = remove_stopwords(text)\n",
        "  #text = lemmatize_tokenize(text)\n",
        "\n",
        "  text = stem_tokenize(text)\n",
        "  return text"
      ],
      "execution_count": 54,
      "outputs": []
    },
    {
      "cell_type": "code",
      "metadata": {
        "id": "wQK9roPHaZQb"
      },
      "source": [
        "#applying the data_cleaning function on the tweets\n",
        "train_data['tweet_text'] = train_data['tweet_text'].apply(data_cleaning)"
      ],
      "execution_count": 55,
      "outputs": []
    },
    {
      "cell_type": "code",
      "metadata": {
        "id": "pLmIxEnQbQ6o",
        "outputId": "8ae037da-0aa2-48f4-dadd-6289e83121f6",
        "colab": {
          "base_uri": "https://localhost:8080/",
          "height": 404
        }
      },
      "source": [
        "#check the cleaning data\n",
        "train_data"
      ],
      "execution_count": 56,
      "outputs": [
        {
          "output_type": "execute_result",
          "data": {
            "text/html": [
              "<div>\n",
              "<style scoped>\n",
              "    .dataframe tbody tr th:only-of-type {\n",
              "        vertical-align: middle;\n",
              "    }\n",
              "\n",
              "    .dataframe tbody tr th {\n",
              "        vertical-align: top;\n",
              "    }\n",
              "\n",
              "    .dataframe thead th {\n",
              "        text-align: right;\n",
              "    }\n",
              "</style>\n",
              "<table border=\"1\" class=\"dataframe\">\n",
              "  <thead>\n",
              "    <tr style=\"text-align: right;\">\n",
              "      <th></th>\n",
              "      <th>tweet_id</th>\n",
              "      <th>sentiment</th>\n",
              "      <th>tweet_text</th>\n",
              "    </tr>\n",
              "  </thead>\n",
              "  <tbody>\n",
              "    <tr>\n",
              "      <th>0</th>\n",
              "      <td>264183816548130816</td>\n",
              "      <td>positive</td>\n",
              "      <td>gas by my house hit im going to chapel hill on sat happy</td>\n",
              "    </tr>\n",
              "    <tr>\n",
              "      <th>1</th>\n",
              "      <td>263405084770172928</td>\n",
              "      <td>negative</td>\n",
              "      <td>theo walcott is still shit watch rafa and johnny deal with him on saturday</td>\n",
              "    </tr>\n",
              "    <tr>\n",
              "      <th>2</th>\n",
              "      <td>262163168678248449</td>\n",
              "      <td>negative</td>\n",
              "      <td>it not that im gsp fan just hate nick diaz cant wait for february</td>\n",
              "    </tr>\n",
              "    <tr>\n",
              "      <th>3</th>\n",
              "      <td>264249301910310912</td>\n",
              "      <td>negative</td>\n",
              "      <td>iranian general say israel iron dome cant deal with their missile keep talking like that and we ...</td>\n",
              "    </tr>\n",
              "    <tr>\n",
              "      <th>4</th>\n",
              "      <td>262682041215234048</td>\n",
              "      <td>neutral</td>\n",
              "      <td>tehran mon amour obama tried to establish tie with the mullah via com no barack obama vote mitt ...</td>\n",
              "    </tr>\n",
              "    <tr>\n",
              "      <th>...</th>\n",
              "      <td>...</td>\n",
              "      <td>...</td>\n",
              "      <td>...</td>\n",
              "    </tr>\n",
              "    <tr>\n",
              "      <th>21460</th>\n",
              "      <td>522949024132112384</td>\n",
              "      <td>neutral</td>\n",
              "      <td>the day after newark ill be able to say met demi lovato yesterday and im meeting demi lovato tom...</td>\n",
              "    </tr>\n",
              "    <tr>\n",
              "      <th>21461</th>\n",
              "      <td>522372593312350209</td>\n",
              "      <td>neutral</td>\n",
              "      <td>fec hold farewell session for seven minister president goodluck jonathan on wednesday led the fe...</td>\n",
              "    </tr>\n",
              "    <tr>\n",
              "      <th>21462</th>\n",
              "      <td>522515200592052224</td>\n",
              "      <td>neutral</td>\n",
              "      <td>luca di montezemolo who last day wa monday on why alonso is leaving ferrari</td>\n",
              "    </tr>\n",
              "    <tr>\n",
              "      <th>21463</th>\n",
              "      <td>523089087155437568</td>\n",
              "      <td>positive</td>\n",
              "      <td>coffee is pretty much the answer to all question today friday tgif</td>\n",
              "    </tr>\n",
              "    <tr>\n",
              "      <th>21464</th>\n",
              "      <td>518290874300514304</td>\n",
              "      <td>neutral</td>\n",
              "      <td>niki lauda just confirmed to sky that alonso wa released of contact on thursday night</td>\n",
              "    </tr>\n",
              "  </tbody>\n",
              "</table>\n",
              "<p>21465 rows × 3 columns</p>\n",
              "</div>"
            ],
            "text/plain": [
              "                 tweet_id  ...                                                                                           tweet_text\n",
              "0      264183816548130816  ...                                             gas by my house hit im going to chapel hill on sat happy\n",
              "1      263405084770172928  ...                           theo walcott is still shit watch rafa and johnny deal with him on saturday\n",
              "2      262163168678248449  ...                                    it not that im gsp fan just hate nick diaz cant wait for february\n",
              "3      264249301910310912  ...  iranian general say israel iron dome cant deal with their missile keep talking like that and we ...\n",
              "4      262682041215234048  ...  tehran mon amour obama tried to establish tie with the mullah via com no barack obama vote mitt ...\n",
              "...                   ...  ...                                                                                                  ...\n",
              "21460  522949024132112384  ...  the day after newark ill be able to say met demi lovato yesterday and im meeting demi lovato tom...\n",
              "21461  522372593312350209  ...  fec hold farewell session for seven minister president goodluck jonathan on wednesday led the fe...\n",
              "21462  522515200592052224  ...                          luca di montezemolo who last day wa monday on why alonso is leaving ferrari\n",
              "21463  523089087155437568  ...                                   coffee is pretty much the answer to all question today friday tgif\n",
              "21464  518290874300514304  ...                niki lauda just confirmed to sky that alonso wa released of contact on thursday night\n",
              "\n",
              "[21465 rows x 3 columns]"
            ]
          },
          "metadata": {
            "tags": []
          },
          "execution_count": 56
        }
      ]
    },
    {
      "cell_type": "markdown",
      "metadata": {
        "id": "5-fqow1uEVcO"
      },
      "source": [
        ">>*It is clearly visible that the text in the tweet_text column is cleaned. Now, there are no punctuations, RT, URLs, mentions, uppercase letters, single letter word, etc in these.*"
      ]
    },
    {
      "cell_type": "markdown",
      "metadata": {
        "id": "vwWsXSr7Exm_"
      },
      "source": [
        ">Creating a list of all the tweets in the train data and a list of tokens(i.e words in the data)."
      ]
    },
    {
      "cell_type": "code",
      "metadata": {
        "id": "Hz_rmf3NbdjQ"
      },
      "source": [
        "all_tweets = []\n",
        "for tweet in train_data['tweet_text']:\n",
        "  all_tweets.append(tweet)\n",
        "\n",
        "tokens = []\n",
        "for tweet in all_tweets:\n",
        "  tokens.extend(word_tokenize(tweet))"
      ],
      "execution_count": 57,
      "outputs": []
    },
    {
      "cell_type": "code",
      "metadata": {
        "id": "KYbD_ihCmCEh",
        "outputId": "b6c5f681-cb2e-422d-af78-b2a2deea199a",
        "colab": {
          "base_uri": "https://localhost:8080/"
        }
      },
      "source": [
        "print(all_tweets[:5])\n",
        "print(tokens[:5])"
      ],
      "execution_count": 58,
      "outputs": [
        {
          "output_type": "stream",
          "text": [
            "['gas by my house hit im going to chapel hill on sat happy', 'theo walcott is still shit watch rafa and johnny deal with him on saturday', 'it not that im gsp fan just hate nick diaz cant wait for february', 'iranian general say israel iron dome cant deal with their missile keep talking like that and we may end up finding out', 'tehran mon amour obama tried to establish tie with the mullah via com no barack obama vote mitt romney']\n",
            "['gas', 'by', 'my', 'house', 'hit']\n"
          ],
          "name": "stdout"
        }
      ]
    },
    {
      "cell_type": "markdown",
      "metadata": {
        "id": "4EkOCVYaTdVb"
      },
      "source": [
        "# ***.4. BUILDING, TRAINING AND VALIDATING THE MODEL***"
      ]
    },
    {
      "cell_type": "markdown",
      "metadata": {
        "id": "eJ9ugWPbFoek"
      },
      "source": [
        ">Spliting the train_data into training and validation dataset"
      ]
    },
    {
      "cell_type": "code",
      "metadata": {
        "id": "IOr4KAj9mFwA",
        "outputId": "3e573b8e-41dc-40f5-ab48-0593e158fc4f",
        "colab": {
          "base_uri": "https://localhost:8080/"
        }
      },
      "source": [
        "#importing train_test_split module of sklearn library\n",
        "from sklearn.model_selection import train_test_split  \n",
        "\n",
        "x = all_tweets\n",
        "y = train_data['sentiment'].values\n",
        "\n",
        "#spliting the data for training and validation\n",
        "x_train, x_test, y_train, y_test = train_test_split(x, y, test_size=0.2, random_state = 1)\n",
        "\n",
        "#print the length of train and test(validation) data\n",
        "print('Train data : ',len(x_train))\n",
        "print('Test data : ',len(x_test))"
      ],
      "execution_count": 59,
      "outputs": [
        {
          "output_type": "stream",
          "text": [
            "Train data :  17172\n",
            "Test data :  4293\n"
          ],
          "name": "stdout"
        }
      ]
    },
    {
      "cell_type": "markdown",
      "metadata": {
        "id": "X3WO7ioZF0Sh"
      },
      "source": [
        ">Converting the strings into numeric data that the model would understand"
      ]
    },
    {
      "cell_type": "code",
      "metadata": {
        "id": "_bb71byDUwRg"
      },
      "source": [
        "#import required libraries\n",
        "from sklearn.feature_extraction.text import TfidfTransformer\n",
        "from sklearn.feature_extraction.text import TfidfVectorizer\n",
        "\n",
        "#convert the string(tweets) data into numeric data which the SVM would understand\n",
        "vectorizer = TfidfVectorizer()\n",
        "train_vectors = vectorizer.fit_transform(x_train)\n",
        "test_vectors = vectorizer.transform(x_test)"
      ],
      "execution_count": 60,
      "outputs": []
    },
    {
      "cell_type": "markdown",
      "metadata": {
        "id": "xCj3xRP4WHHb"
      },
      "source": [
        ">Training the model"
      ]
    },
    {
      "cell_type": "code",
      "metadata": {
        "id": "eVOlMSVFWGaJ",
        "outputId": "96ec5766-a9b2-4f59-92f7-e75e55ab326e",
        "colab": {
          "base_uri": "https://localhost:8080/"
        }
      },
      "source": [
        "#building SVM Model using tf- idf approach\n",
        "print(\"Building a Support Vector Machine Model using TF-IDF approach\")\n",
        "from sklearn import svm\n",
        "model_SVM = svm.SVC(C=0.98,kernel='linear')\n",
        "model_SVM.fit(train_vectors, y_train)"
      ],
      "execution_count": 61,
      "outputs": [
        {
          "output_type": "stream",
          "text": [
            "Building a Support Vector Machine Model using TF-IDF approach\n"
          ],
          "name": "stdout"
        },
        {
          "output_type": "execute_result",
          "data": {
            "text/plain": [
              "SVC(C=0.98, break_ties=False, cache_size=200, class_weight=None, coef0=0.0,\n",
              "    decision_function_shape='ovr', degree=3, gamma='scale', kernel='linear',\n",
              "    max_iter=-1, probability=False, random_state=None, shrinking=True,\n",
              "    tol=0.001, verbose=False)"
            ]
          },
          "metadata": {
            "tags": []
          },
          "execution_count": 61
        }
      ]
    },
    {
      "cell_type": "markdown",
      "metadata": {
        "id": "T6x9EaHUV1FA"
      },
      "source": [
        ">Checking evaluation matrix, classification report and accuracy of the model\n",
        "\n"
      ]
    },
    {
      "cell_type": "code",
      "metadata": {
        "id": "926_qSpLWaqh",
        "outputId": "7949111d-5f69-412e-904a-0189343b1196",
        "colab": {
          "base_uri": "https://localhost:8080/"
        }
      },
      "source": [
        "from sklearn.metrics import classification_report, confusion_matrix, accuracy_score\n",
        "y_pred = model_SVM.predict(test_vectors)   \n",
        "cm = confusion_matrix(y_test,y_pred)\n",
        "report = classification_report(y_test,y_pred)\n",
        "score = accuracy_score(y_test,y_pred)\n",
        "print('='*60)\n",
        "print(\"\\n***** EVALUTION MATRIX : *****\\n\\n\",cm)\n",
        "print(\"\\n\"+'='*60)\n",
        "print(\"\\n***** CLASSIFICATION MATRIX : *****\\n\\n \",report)\n",
        "print('='*60)\n",
        "print(\"\\n***** ACCURACY = \",score,\" *****\")\n",
        "print('\\n'+'='*60)"
      ],
      "execution_count": 62,
      "outputs": [
        {
          "output_type": "stream",
          "text": [
            "============================================================\n",
            "\n",
            "***** EVALUTION MATRIX : *****\n",
            "\n",
            " [[ 242  315  104]\n",
            " [ 122 1312  396]\n",
            " [  43  537 1222]]\n",
            "\n",
            "============================================================\n",
            "\n",
            "***** CLASSIFICATION MATRIX : *****\n",
            "\n",
            "                precision    recall  f1-score   support\n",
            "\n",
            "    negative       0.59      0.37      0.45       661\n",
            "     neutral       0.61      0.72      0.66      1830\n",
            "    positive       0.71      0.68      0.69      1802\n",
            "\n",
            "    accuracy                           0.65      4293\n",
            "   macro avg       0.64      0.59      0.60      4293\n",
            "weighted avg       0.65      0.65      0.64      4293\n",
            "\n",
            "============================================================\n",
            "\n",
            "***** ACCURACY =  0.6466340554390869  *****\n",
            "\n",
            "============================================================\n"
          ],
          "name": "stdout"
        }
      ]
    },
    {
      "cell_type": "markdown",
      "metadata": {
        "id": "4Wgx03X2WSFC"
      },
      "source": [
        "#***THE ACCURACY OF THE MODEL IS APPROXIMATELY 64.55%***\n",
        "\n",
        "\n"
      ]
    }
  ]
}